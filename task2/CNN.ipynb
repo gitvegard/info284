{
  "cells": [
    {
      "cell_type": "markdown",
      "metadata": {
        "vscode": {
          "languageId": "markdown"
        },
        "id": "6TxkvWPdTYDg"
      },
      "source": [
        "# CNN with binary classification  \n",
        "Candidates 213, 214, 111\n",
        "\n",
        "1. Libraries\n",
        "\n",
        "2. Transformation and Analysis  \n",
        " 2.1 Loading the data  \n",
        " 2.2 What data are we dealing with?\n",
        "\n",
        "3. Making our model  \n",
        " 3.1 Specify our target class  \n",
        " 3.2 The model we are using – Resnet18  \n",
        " 3.3 Training-loop\n",
        "\n",
        "4. Evaluation  \n",
        " 4.1 Confusion Matrix\n",
        "\n",
        "5. Testing with a Random Image\n"
      ]
    },
    {
      "cell_type": "markdown",
      "metadata": {
        "id": "XJUA3Ajy2S1p"
      },
      "source": [
        "# Libraries\n",
        "\n",
        "Libraries are essential in simplifying the development process by providing pre-built functions and tools. They allow us to efficiently handle tasks like data manipulation, visualization, and building machine learning models without reinventing the wheel. In this project, we use libraries like PyTorch for deep learning, NumPy for numerical computations, and Matplotlib for visualizations."
      ]
    },
    {
      "cell_type": "code",
      "execution_count": 1,
      "metadata": {
        "colab": {
          "base_uri": "https://localhost:8080/"
        },
        "id": "Vy3cSRgTlNwD",
        "outputId": "51e2c7dd-3a3d-455f-ed53-2f045cfc71c0"
      },
      "outputs": [
        {
          "output_type": "stream",
          "name": "stdout",
          "text": [
            "Using device: cuda\n"
          ]
        }
      ],
      "source": [
        "import torch # PyTorch\n",
        "import torchvision # PyTorch Vision Library\n",
        "import torchvision.datasets as datasets # Datasets\n",
        "import torchvision.transforms as transforms # Transforms the dataset\n",
        "import matplotlib.pyplot as plt # Plotting\n",
        "from sklearn.metrics import confusion_matrix, ConfusionMatrixDisplay, classification_report # Vizualising the results\n",
        "import numpy as np # Numerical computatons\n",
        "from torchvision.utils import make_grid # Make a grid of images\n",
        "from PIL import Image # Python Imaging Library\n",
        "from torch.utils.data import DataLoader, Subset # Data Loader\n",
        "import torchvision.models as models # Pretrained Models\n",
        "import torch.nn as nn # Neural Network Module\n",
        "import torch.optim as optim # Optimizer\n",
        "from torchvision.models import resnet18, ResNet18_Weights # ResNet18, the model we will be using\n",
        "\n",
        "# We were using Google Colab, so we needed to specify the device\n",
        "device = torch.device(\"cuda\" if torch.cuda.is_available() else \"cpu\")\n",
        "print(\"Using device:\", device)"
      ]
    },
    {
      "cell_type": "markdown",
      "metadata": {
        "id": "9IiNqhtk2S1q"
      },
      "source": [
        "# Transformation and analysis\n",
        "Standardizing the dataset. Makes it easier to work with."
      ]
    },
    {
      "cell_type": "code",
      "execution_count": 2,
      "metadata": {
        "id": "Msg8mboolNwE"
      },
      "outputs": [],
      "source": [
        "transform = transforms.Compose([transforms.Resize((32, 32)),\n",
        "                                transforms.ToTensor(),\n",
        "                                transforms.Normalize((0.5, 0.5, 0.5), (0.5, 0.5, 0.5))])"
      ]
    },
    {
      "cell_type": "markdown",
      "metadata": {
        "id": "ueke1sJC2S1q"
      },
      "source": [
        "## Loading the data\n",
        "This code downloads the CIFAR-10 dataset and prepares it for training and evaluation. It loads the training data (50,000 images) and test data (10,000 images) while applying the specified image transformations, then creates DataLoaders to efficiently feed the data in mini-batches (with shuffling for training), and finally defines the class names for easy interpretation of the numerical labels."
      ]
    },
    {
      "cell_type": "code",
      "execution_count": 3,
      "metadata": {
        "id": "ULp1UwajlNwF",
        "outputId": "3299ecf3-6dea-46ba-8dfc-15f42ba9444f",
        "colab": {
          "base_uri": "https://localhost:8080/"
        }
      },
      "outputs": [
        {
          "output_type": "stream",
          "name": "stderr",
          "text": [
            "100%|██████████| 170M/170M [00:03<00:00, 43.0MB/s]\n"
          ]
        }
      ],
      "source": [
        "# Download and load training data\n",
        "trainset = datasets.CIFAR10(root='./data', train=True, download=True, transform=transform)\n",
        "trainloader = torch.utils.data.DataLoader(trainset, batch_size=64, shuffle=True)\n",
        "\n",
        "# Download and load test data\n",
        "testset = datasets.CIFAR10(root='./data', train=False, download=True, transform=transform)\n",
        "testloader = torch.utils.data.DataLoader(testset, batch_size=64, shuffle=False)\n",
        "\n",
        "\n",
        "\n",
        "classes = ('plane', 'car', 'bird', 'cat', 'deer', 'dog', 'frog', 'horse', 'ship', 'truck')"
      ]
    },
    {
      "cell_type": "markdown",
      "metadata": {
        "id": "nAw1C6Re-yJi"
      },
      "source": [
        "## What data are we dealing with?\n",
        "Showing how the data looks in the CIFAR-10 dataset. The output shows the images, with their labels."
      ]
    },
    {
      "cell_type": "code",
      "execution_count": 4,
      "metadata": {
        "colab": {
          "base_uri": "https://localhost:8080/",
          "height": 108
        },
        "id": "bWEGX7vXlNwF",
        "outputId": "6aaad6e0-a537-41f1-f00e-1bd641081ffe"
      },
      "outputs": [
        {
          "output_type": "display_data",
          "data": {
            "text/plain": [
              "<Figure size 1760x300 with 8 Axes>"
            ],
            "image/png": "[encoded data removed]"
          },
          "metadata": {}
        }
      ],
      "source": [
        "def imshow_grid_with_labels(images, labels, classes, num_images=8):\n",
        "    images = images[:num_images]\n",
        "    images = images / 2 + 0.5  # unnormalize\n",
        "\n",
        "    fig, axes = plt.subplots(1, num_images, figsize=(num_images * 2.2, 3))\n",
        "\n",
        "    for i in range(num_images):\n",
        "        img = images[i].numpy().transpose((1, 2, 0))\n",
        "        axes[i].imshow(img)\n",
        "        axes[i].set_title(classes[labels[i]], fontsize=14)\n",
        "        axes[i].axis('off')\n",
        "\n",
        "    plt.tight_layout()\n",
        "    plt.show()\n",
        "\n",
        "dataiter = iter(trainloader)\n",
        "images, labels = next(dataiter)\n",
        "imshow_grid_with_labels(images, labels, classes, num_images=8)"
      ]
    },
    {
      "cell_type": "markdown",
      "metadata": {
        "id": "KT1DFsxmTYDl"
      },
      "source": [
        "# Making our model"
      ]
    },
    {
      "cell_type": "markdown",
      "metadata": {
        "id": "7gzYqUL62S1r"
      },
      "source": [
        "## Specify our target class\n",
        "This code converts the original 10-class CIFAR-10 labels into binary labels for a cat vs. not-cat classification task by assigning a label of 1 to “cat” (class 3) and 0 to all other classes. Then, it creates subsets covering the full training (40 000 images), testing (5000 images) and validation (5000) splits and builds DataLoaders that efficiently batch and, in the case of training, shuffle the data for model training and evaluation."
      ]
    },
    {
      "cell_type": "code",
      "execution_count": 5,
      "metadata": {
        "id": "hkKdwnevlNwF"
      },
      "outputs": [],
      "source": [
        "target_class = 3  # 'cat'\n",
        "\n",
        "# Convert CIFAR-10 dataset labels to binary: 1 = cat, 0 = not cat\n",
        "def convert_to_binary(dataset, target_class=3):  # Default to 'cat' class (3)\n",
        "    dataset.targets = [1 if label == target_class else 0 for label in dataset.targets]\n",
        "    return dataset\n",
        "\n",
        "# Apply conversion to binary classification for both train and test sets\n",
        "trainset = convert_to_binary(trainset)\n",
        "testset = convert_to_binary(testset)\n",
        "\n",
        "# 40000 train, 5000 validation, 5000 test\n",
        "train_subset = Subset(trainset, range(40000)) # Indices 0 to 39999 for training\n",
        "valid_subset = Subset(trainset, range(40000, 45000))  # Indices 40000 to 44999 for validation\n",
        "test_subset  = Subset(testset, range(5000))   # First 5000 images from test set for testing\n",
        "\n",
        "# DataLoaders\n",
        "trainLoader = torch.utils.data.DataLoader(train_subset, batch_size=64, shuffle=True, num_workers=2)\n",
        "validLoader = torch.utils.data.DataLoader(valid_subset, batch_size=64, shuffle=False, num_workers=2)\n",
        "testloader  = torch.utils.data.DataLoader(test_subset, batch_size=64, shuffle=False, num_workers=2)"
      ]
    },
    {
      "cell_type": "markdown",
      "metadata": {
        "id": "IbwT8OBQ2S1r"
      },
      "source": [
        "## The model we are using - ResNet18\n",
        "We use ResNet because it’s a powerful, well-established deep convolutional neural network architecture that leverages residual (skip) connections. These connections allow very deep networks to be trained effectively by helping gradients flow backward through many layers. Additionally, ResNet models (like ResNet18) are widely pre-trained on large datasets like ImageNet, which enables effective transfer learning—meaning we can fine-tune the network for our specific task (in this case, binary classification of cat vs. not-cat)"
      ]
    },
    {
      "cell_type": "code",
      "execution_count": 6,
      "metadata": {
        "id": "lDbWXeKTlNwF",
        "outputId": "ebee0f27-d597-4940-8e60-b6237e43a80d",
        "colab": {
          "base_uri": "https://localhost:8080/"
        }
      },
      "outputs": [
        {
          "output_type": "stream",
          "name": "stderr",
          "text": [
            "Downloading: \"https://download.pytorch.org/models/resnet18-f37072fd.pth\" to /root/.cache/torch/hub/checkpoints/resnet18-f37072fd.pth\n",
            "100%|██████████| 44.7M/44.7M [00:00<00:00, 133MB/s]\n"
          ]
        }
      ],
      "source": [
        "# Load the ResNet18 model\n",
        "weights = ResNet18_Weights.DEFAULT\n",
        "model = resnet18(weights=weights)\n",
        "model.fc = nn.Linear(model.fc.in_features, 1)\n",
        "model = model.to(device)"
      ]
    },
    {
      "cell_type": "markdown",
      "metadata": {
        "id": "DI7pf9c32S1r"
      },
      "source": [
        "## Training-loop\n",
        "This snippet sets up and runs a training loop for our binary classifier. We use the BCEWithLogitsLoss (which combines sigmoid activation and binary cross-entropy loss) along with the Adam optimizer. For each epoch, the code:\n",
        "- Moves the images and labels to the device (CPU/GPU),\n",
        "- Performs a forward pass through the model,\n",
        "- Computes the loss,\n",
        "- Backpropagates the gradients,\n",
        "- Updates the model parameters.\n",
        "\n",
        "We do this to iteratively minimize the loss so that our model learns to correctly classify images as “cat” (1) or “not cat” (0).\n",
        "\n",
        "To run it, we were using a M3 Mac´s GPU, we then swapped to Google Colab (cuda) and could run much faster with more epochs."
      ]
    },
    {
      "cell_type": "code",
      "execution_count": 7,
      "metadata": {
        "colab": {
          "base_uri": "https://localhost:8080/"
        },
        "id": "vaTG-_s7lNwF",
        "outputId": "87f603ee-5bb2-43e3-8c90-37ca1dd4f772"
      },
      "outputs": [
        {
          "output_type": "stream",
          "name": "stdout",
          "text": [
            "Epoch 1, Train Loss: 0.8410, Validation Loss: 0.7444\n",
            "Epoch 2, Train Loss: 0.6633, Validation Loss: 0.7142\n",
            "Epoch 3, Train Loss: 0.6975, Validation Loss: 0.6931\n",
            "Epoch 4, Train Loss: 0.5733, Validation Loss: 0.6520\n",
            "Epoch 5, Train Loss: 0.5125, Validation Loss: 0.6407\n"
          ]
        }
      ],
      "source": [
        "# Loss function and optimizer\n",
        "# Calculate pos_weight as the ratio of negatives to positives in the training set\n",
        "# Adam optimizer with weight decay to prevent overfitting\n",
        "pos_weight = torch.tensor([9.0], device=device)\n",
        "criterion = nn.BCEWithLogitsLoss(pos_weight=pos_weight)\n",
        "optimizer = optim.Adam(model.parameters(), lr=0.001, weight_decay=1e-4)\n",
        "\n",
        "num_epochs = 5\n",
        "\n",
        "for epoch in range(num_epochs):\n",
        "    # Training phase\n",
        "    model.train()\n",
        "    running_loss = 0.0\n",
        "    for images, labels in trainLoader:\n",
        "        images = images.to(device)\n",
        "        labels = labels.float().unsqueeze(1).to(device)\n",
        "\n",
        "        optimizer.zero_grad()\n",
        "        outputs = model(images)\n",
        "        loss = criterion(outputs, labels)\n",
        "        loss.backward()\n",
        "        optimizer.step()\n",
        "\n",
        "        running_loss += loss.item()\n",
        "\n",
        "    train_loss = running_loss / len(trainLoader)\n",
        "\n",
        "    # Validation phase\n",
        "    model.eval()\n",
        "    running_val_loss = 0.0\n",
        "    with torch.no_grad():\n",
        "        for images, labels in validLoader:\n",
        "            images = images.to(device)\n",
        "            labels = labels.float().unsqueeze(1).to(device)\n",
        "\n",
        "            outputs = model(images)\n",
        "            loss = criterion(outputs, labels)\n",
        "            running_val_loss += loss.item()\n",
        "\n",
        "    val_loss = running_val_loss / len(validLoader)\n",
        "\n",
        "    print(f\"Epoch {epoch+1}, Train Loss: {train_loss:.4f}, Validation Loss: {val_loss:.4f}\")"
      ]
    },
    {
      "cell_type": "markdown",
      "metadata": {
        "id": "HPSkLgs8qFF7"
      },
      "source": [
        "We struggled a lot with the model overfitting, wich is why we added validation loss to the training loop, to indentify just how many epochs we could use before overfitting. The \"pos_weight\" helped a lot with reducing the amount of false negatives, effectively bettering our recall score. What it does is punishing the model for classifying a 'cat' as 'not cat'. These are common problems with imbalanced datasets where we are looking for a minority class.\n",
        "\n",
        "The validation loss indicates if the model is startig to overfit (if it spikes and doesn´t recover). This is why we are using 5 epochs and not more, since the model started overfitting in epoch 6-7. This way we are getting optimal results."
      ]
    },
    {
      "cell_type": "markdown",
      "metadata": {
        "id": "V2SLwe852S1s"
      },
      "source": [
        "# Evaluation\n",
        "This snippet evaluates the model’s performance on the test data. It does the following:\n",
        "\n",
        "- Sets the model to evaluation mode and disables gradient calculations (for efficiency).\n",
        "\n",
        "- Iterates through the test dataset, moving images and labels to the correct device.\n",
        "\n",
        "- Computes the model’s output, applies the sigmoid function to convert logits to probabilities, and thresholds at 0.5 to get  binary predictions.\n",
        "\n",
        "- Compares predictions with the true labels and calculates measurements.\n",
        "\n",
        "We do this to measure how well the trained model generalizes to unseen data without affecting its parameters."
      ]
    },
    {
      "cell_type": "code",
      "execution_count": 8,
      "metadata": {
        "colab": {
          "base_uri": "https://localhost:8080/"
        },
        "id": "uiX7vd2ilNwF",
        "outputId": "776ae511-b2f7-4cf6-a115-fdb6b775f923"
      },
      "outputs": [
        {
          "output_type": "stream",
          "name": "stdout",
          "text": [
            "              precision    recall  f1-score   support\n",
            "\n",
            "     not cat       0.83      0.82      0.83      1000\n",
            "         cat       0.83      0.84      0.83      1000\n",
            "\n",
            "    accuracy                           0.83      2000\n",
            "   macro avg       0.83      0.83      0.83      2000\n",
            "weighted avg       0.83      0.83      0.83      2000\n",
            "\n"
          ]
        }
      ],
      "source": [
        "# Get balanced indices (first n of each class)\n",
        "cat_idx = [i for i, label in enumerate(testset.targets) if label == 1]\n",
        "not_cat_idx = [i for i, label in enumerate(testset.targets) if label == 0]\n",
        "n = min(len(cat_idx), len(not_cat_idx))\n",
        "balanced_indices = cat_idx[:n] + not_cat_idx[:n]\n",
        "\n",
        "# Create a DataLoader for the balanced test set\n",
        "balanced_testloader = torch.utils.data.DataLoader(\n",
        "    Subset(testset, balanced_indices), batch_size=64, shuffle=False, num_workers=2\n",
        ")\n",
        "\n",
        "all_preds = []\n",
        "all_labels = []\n",
        "\n",
        "with torch.no_grad():\n",
        "    for images, labels in balanced_testloader:\n",
        "        images = images.to(device)\n",
        "        labels = labels.to(device)\n",
        "        outputs = model(images)\n",
        "        preds = (torch.sigmoid(outputs) > 0.5).long().squeeze()\n",
        "\n",
        "        all_preds.extend(preds.cpu().numpy())\n",
        "        all_labels.extend(labels.cpu().numpy())\n",
        "\n",
        "# Print classification report\n",
        "print(classification_report(all_labels, all_preds, target_names=['not cat', 'cat']))"
      ]
    },
    {
      "cell_type": "markdown",
      "metadata": {
        "id": "av3P46l1qFF7"
      },
      "source": [
        "## Confusion Matrix\n",
        "This illustrates how often the model predicts correctly, and shows when the model predicts wrongly.\n",
        "The Matrix illustrates that the model mostly predicts correct."
      ]
    },
    {
      "cell_type": "code",
      "execution_count": 9,
      "metadata": {
        "colab": {
          "base_uri": "https://localhost:8080/",
          "height": 472
        },
        "id": "g_jXTElpepHY",
        "outputId": "ffeed68f-2c43-4f7b-b6a6-6e6c99a60bc0"
      },
      "outputs": [
        {
          "output_type": "display_data",
          "data": {
            "text/plain": [
              "<Figure size 640x480 with 2 Axes>"
            ],
            "image/png": "[encoded data removed]"
          },
          "metadata": {}
        }
      ],
      "source": [
        "# Collect predictions and true labels\n",
        "all_preds = []\n",
        "all_labels = []\n",
        "\n",
        "model.eval()\n",
        "with torch.no_grad():\n",
        "    for images, labels in balanced_testloader:\n",
        "        images = images.to(device)\n",
        "        outputs = model(images)\n",
        "        preds = (torch.sigmoid(outputs) > 0.5).long().cpu().numpy()\n",
        "        all_preds.extend(preds.flatten())\n",
        "        all_labels.extend(labels.cpu().numpy())\n",
        "\n",
        "# Compute and display confusion matrix\n",
        "cm = confusion_matrix(all_labels, all_preds)\n",
        "disp = ConfusionMatrixDisplay(confusion_matrix=cm, display_labels=['Not Cat', 'Cat'])\n",
        "disp.plot(cmap='Blues')\n",
        "plt.title(\"Confusion Matrix\")\n",
        "plt.show()"
      ]
    },
    {
      "cell_type": "markdown",
      "metadata": {
        "id": "Zlqjzgme2S1s"
      },
      "source": [
        "# Testing with a random image\n",
        "We found two random images of a cat and a dog on Google, and then resized them to fit CIFAR-10´s format we used for training (32x32).\n",
        "We chose dog as the category we wanted to compare with, since it was the most similar class to cat. As you can see by the pictures below, our model correctly predicts if an image is of a cat or a dog. We used the same threshold as with the evaluation at 0.5"
      ]
    },
    {
      "cell_type": "code",
      "execution_count": 10,
      "metadata": {
        "colab": {
          "base_uri": "https://localhost:8080/",
          "height": 874
        },
        "id": "9W9rDpTmlNwF",
        "outputId": "dcf5f930-8081-4b52-c9c7-5b115f494836"
      },
      "outputs": [
        {
          "output_type": "stream",
          "name": "stdout",
          "text": [
            "Prediction: Cat (confidence: 0.84)\n"
          ]
        },
        {
          "output_type": "display_data",
          "data": {
            "text/plain": [
              "<Figure size 640x480 with 1 Axes>"
            ],
            "image/png": "[encoded data removed]"
          },
          "metadata": {}
        },
        {
          "output_type": "stream",
          "name": "stdout",
          "text": [
            "Prediction: Not Cat (confidence: 0.18)\n"
          ]
        },
        {
          "output_type": "display_data",
          "data": {
            "text/plain": [
              "<Figure size 640x480 with 1 Axes>"
            ],
            "image/png": "[encoded data removed]"
          },
          "metadata": {}
        }
      ],
      "source": [
        "# Make sure we have the right transformations for prediction\n",
        "predict_transform = transforms.Compose([\n",
        "    transforms.Resize((32, 32)),  # Match CIFAR-10 image size\n",
        "    transforms.ToTensor(),\n",
        "    transforms.Normalize((0.5, 0.5, 0.5), (0.5, 0.5, 0.5))  # Match training normalization\n",
        "])\n",
        "\n",
        "def predict_image(img_path, model):\n",
        "    model.eval()  # Set model to evaluation mode\n",
        "    img = Image.open(img_path).convert('RGB')  # Open image\n",
        "    img_tensor = predict_transform(img).unsqueeze(0).to(device)  # Apply transformations and move to device\n",
        "\n",
        "    with torch.no_grad():\n",
        "        output = model(img_tensor)  # Pass img_tensor to the model\n",
        "        prob = torch.sigmoid(output).item()  # Apply sigmoid to get probability\n",
        "\n",
        "    # Threshold for binary classification: 0.5 for cat vs not-cat\n",
        "    result = \"Cat\" if prob > 0.5 else \"Not Cat\"\n",
        "    print(f\"Prediction: {result} (confidence: {prob:.2f})\")\n",
        "\n",
        "    # Show image with result title\n",
        "    plt.imshow(img.resize((32, 32)))  # Resize to show what the model sees\n",
        "    plt.title(result)\n",
        "    plt.axis('off')\n",
        "    plt.show()\n",
        "\n",
        "# Finally, run:\n",
        "predict_image(\"cat_image.jpg\", model)\n",
        "predict_image(\"dog_image.jpg\", model)"
      ]
    }
  ],
  "metadata": {
    "accelerator": "GPU",
    "colab": {
      "gpuType": "T4",
      "provenance": []
    },
    "kernelspec": {
      "display_name": "Python 3",
      "name": "python3"
    },
    "language_info": {
      "codemirror_mode": {
        "name": "ipython",
        "version": 3
      },
      "file_extension": ".py",
      "mimetype": "text/x-python",
      "name": "python",
      "nbconvert_exporter": "python",
      "pygments_lexer": "ipython3",
      "version": "3.12.7"
    }
  },
  "nbformat": 4,
  "nbformat_minor": 0
}